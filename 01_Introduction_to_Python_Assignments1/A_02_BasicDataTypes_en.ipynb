{
 "cells": [
  {
   "cell_type": "markdown",
   "metadata": {
    "id": "2MnBfHrhkY_W"
   },
   "source": [
    "**(1)** Suppose you invested in Bitcoin at the end of 2017 when Bitcoin gained a lot of value. What would be your money at the end of a week if you had invested \\$1000 with an average daily increase of 12\\% ? You can solve the problem using Python."
   ]
  },
  {
   "cell_type": "code",
   "execution_count": 1,
   "metadata": {},
   "outputs": [
    {
     "name": "stdout",
     "output_type": "stream",
     "text": [
      "2210.6814074060812\n"
     ]
    }
   ],
   "source": []
  },
  {
   "cell_type": "markdown",
   "metadata": {
    "id": "Kk0vsyA9kY_X"
   },
   "source": [
    "**(2)**  Print the text in quotes with Python. However, you must get the numbers from variables using `.format()` notation. <br> Because the text is long, you might consider writing in two lines:\n",
    "\n",
    "        `\"When we buy bitcoin with 1000 USD at the beginning of the week, we would earn 1210.68 USD at the end of the week, with an average gain of 12\\%.\"`"
   ]
  },
  {
   "cell_type": "code",
   "execution_count": 2,
   "metadata": {},
   "outputs": [
    {
     "name": "stdout",
     "output_type": "stream",
     "text": [
      "When we buy bitcoin with 1000 USD at the beginning of the week, we would earn 1210.68 USD at the end of the week, with an average daily gain of 12%.\n"
     ]
    }
   ],
   "source": []
  },
  {
   "cell_type": "markdown",
   "metadata": {
    "id": "UifLXZilkY_Y"
   },
   "source": [
    "**(3)**  Get the temperature in Fahrenheit from user and write a code to convert it to Celcius. For conversion, you can use this formula: C = (5/9) * (F - 32)\n",
    "\n",
    "        Enter the temperature in Fahrenheit: \n",
    "        user --> 26\n",
    "        output --> Temperature (C) : -3.33"
   ]
  },
  {
   "cell_type": "code",
   "execution_count": 3,
   "metadata": {},
   "outputs": [
    {
     "name": "stdin",
     "output_type": "stream",
     "text": [
      "Enter the temperature in Fahrenheit:  26\n"
     ]
    },
    {
     "name": "stdout",
     "output_type": "stream",
     "text": [
      "Temperature (C) : -3.33\n"
     ]
    }
   ],
   "source": []
  },
  {
   "cell_type": "markdown",
   "metadata": {
    "id": "IJSruOwzkY_Y"
   },
   "source": [
    "**(4)**  Get a three digit number the from user and calculate the sum of the digits in the integer.\n",
    "\n",
    "        user --> 365\n",
    "        output --> \"The sum of digits in the number is 14"
   ]
  },
  {
   "cell_type": "code",
   "execution_count": 4,
   "metadata": {},
   "outputs": [
    {
     "name": "stdin",
     "output_type": "stream",
     "text": [
      "Input a three digit numbers:  365\n"
     ]
    },
    {
     "name": "stdout",
     "output_type": "stream",
     "text": [
      "The sum of digits in the number is 14\n"
     ]
    }
   ],
   "source": []
  },
  {
   "cell_type": "markdown",
   "metadata": {
    "id": "s4ncKZc1kY_Z"
   },
   "source": [
    "**(5)**  Write some code to calculate the hypotenuse of a right angled triangle. Get the side lengths from the user.\n",
    "\n",
    "        user --> first side lenth : 6\n",
    "        user --> first side lenth : 8\n",
    "        output --> \"The length of the hypotenuse is 10"
   ]
  },
  {
   "cell_type": "code",
   "execution_count": 5,
   "metadata": {},
   "outputs": [
    {
     "name": "stdin",
     "output_type": "stream",
     "text": [
      "Input length of first side:  6\n",
      "Input length of sesond side:  8\n"
     ]
    },
    {
     "name": "stdout",
     "output_type": "stream",
     "text": [
      "The length of the hypotenuse is 10.0\n"
     ]
    }
   ],
   "source": []
  }
 ],
 "metadata": {
  "colab": {
   "name": "A_02_BasicDataTypes_en.ipynb",
   "provenance": []
  },
  "kernelspec": {
   "display_name": "Python 3",
   "language": "python",
   "name": "python3"
  },
  "language_info": {
   "codemirror_mode": {
    "name": "ipython",
    "version": 3
   },
   "file_extension": ".py",
   "mimetype": "text/x-python",
   "name": "python",
   "nbconvert_exporter": "python",
   "pygments_lexer": "ipython3",
   "version": "3.8.7"
  }
 },
 "nbformat": 4,
 "nbformat_minor": 4
}
