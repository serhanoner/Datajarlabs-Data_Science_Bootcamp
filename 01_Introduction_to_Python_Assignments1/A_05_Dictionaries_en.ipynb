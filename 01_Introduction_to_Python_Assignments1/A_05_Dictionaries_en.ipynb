{
 "cells": [
  {
   "cell_type": "markdown",
   "metadata": {
    "id": "G-dc3Rss-cOv"
   },
   "source": [
    "**(1)** Create a dictionary with 7 days. Ask the user to choose 2 different days by listing the (e.g. \"12\" for Monday and Tuesday). Delete the user-selected days from the dictionary and print the remaining 5 days on the screen.<br><br>"
   ]
  },
  {
   "cell_type": "code",
   "execution_count": 1,
   "metadata": {
    "id": "R-fRlCVk-cOv",
    "outputId": "a29edafa-4ce0-4e89-c44a-be8fcfea8067"
   },
   "outputs": [
    {
     "name": "stdin",
     "output_type": "stream",
     "text": [
      "Write two days to delete (e.g. \"25\" ): 25\n"
     ]
    },
    {
     "name": "stdout",
     "output_type": "stream",
     "text": [
      "{1: 'Monday', 3: 'Wednesday', 4: 'Thursday', 6: 'Saturday', 7: 'Sunday'}\n"
     ]
    }
   ],
   "source": []
  },
  {
   "cell_type": "markdown",
   "metadata": {
    "id": "7YruQj1L-cOw"
   },
   "source": [
    "**(2)**  Create a dictionary with the following personnel. Use names as keys.\n",
    "\n",
    "|Name|Age|Sex|\n",
    "|-|-|-|\n",
    "|John|25|Male|\n",
    "|Lisa|28|Female|\n",
    "|Linda|32|Female|\n",
    "|Michael|41|Male|"
   ]
  },
  {
   "cell_type": "code",
   "execution_count": 2,
   "metadata": {
    "id": "pbuXwn2W-cO1"
   },
   "outputs": [],
   "source": []
  },
  {
   "cell_type": "markdown",
   "metadata": {
    "id": "O4w6rGz3-cO4"
   },
   "source": [
    "**(3)** Add child information to Michael and Linda. Michael has two children (Karen (age : 12, female) and Greg (age : 7, male) and Linda has one child (Susan (age: 6, female))"
   ]
  },
  {
   "cell_type": "code",
   "execution_count": 3,
   "metadata": {
    "id": "g2o6TR1H-cO4"
   },
   "outputs": [],
   "source": []
  },
  {
   "cell_type": "markdown",
   "metadata": {
    "id": "GHmgjKU7-cO4"
   },
   "source": [
    "**(4)** Print the names of Michael's children in a list."
   ]
  },
  {
   "cell_type": "code",
   "execution_count": 4,
   "metadata": {
    "id": "gowZJEm8-cO4",
    "outputId": "e4f7b33d-d66c-4b7c-c370-fb1ed05ac28c"
   },
   "outputs": [
    {
     "name": "stdout",
     "output_type": "stream",
     "text": [
      "['Karen', 'Greg']\n"
     ]
    }
   ],
   "source": []
  }
 ],
 "metadata": {
  "kernelspec": {
   "display_name": "Python 3",
   "language": "python",
   "name": "python3"
  },
  "language_info": {
   "codemirror_mode": {
    "name": "ipython",
    "version": 3
   },
   "file_extension": ".py",
   "mimetype": "text/x-python",
   "name": "python",
   "nbconvert_exporter": "python",
   "pygments_lexer": "ipython3",
   "version": "3.8.7"
  }
 },
 "nbformat": 4,
 "nbformat_minor": 4
}
