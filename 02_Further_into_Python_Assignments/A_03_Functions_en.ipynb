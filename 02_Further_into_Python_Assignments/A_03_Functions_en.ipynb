{
  "nbformat": 4,
  "nbformat_minor": 0,
  "metadata": {
    "colab": {
      "name": "Functions_Serhan.ipynb",
      "provenance": [],
      "collapsed_sections": []
    },
    "kernelspec": {
      "name": "python3",
      "display_name": "Python 3"
    },
    "language_info": {
      "name": "python"
    }
  },
  "cells": [
    {
      "cell_type": "code",
      "metadata": {
        "colab": {
          "base_uri": "https://localhost:8080/"
        },
        "id": "86HnjocWu9Ki",
        "outputId": "b9331cec-9c65-4db1-bbf9-ed8adcbeaad6"
      },
      "source": [
        "def prime(n):\n",
        "  if (n==1):\n",
        "    return False\n",
        "  elif (n==2):\n",
        "    return True\n",
        "  \n",
        "  else:\n",
        "\n",
        "    for i in range(2,n):\n",
        "      \n",
        "      if (n % i == 0):\n",
        "        return False\n",
        "    \n",
        "    return True\n",
        "\n",
        "prime(75)"
      ],
      "execution_count": null,
      "outputs": [
        {
          "output_type": "execute_result",
          "data": {
            "text/plain": [
              "False"
            ]
          },
          "metadata": {},
          "execution_count": 13
        }
      ]
    },
    {
      "cell_type": "code",
      "metadata": {
        "colab": {
          "base_uri": "https://localhost:8080/"
        },
        "id": "VufGBV-8vFZR",
        "outputId": "b1e36c53-7291-4d64-e37f-8bbb3bcea8d1"
      },
      "source": [
        "newList = []\n",
        "\n",
        "def unique_list(myList):\n",
        "\n",
        "    for item in myList:\n",
        "\n",
        "      if item not in newList:\n",
        "        newList.append(item)\n",
        "\n",
        "    return newList\n",
        "            \n",
        "unique_list([1,2,2,3,3,4,4,4,5,6,7,8,8,8,8,9,9,9])"
      ],
      "execution_count": null,
      "outputs": [
        {
          "output_type": "execute_result",
          "data": {
            "text/plain": [
              "[1, 2, 3, 4, 5, 6, 7, 8, 9]"
            ]
          },
          "metadata": {},
          "execution_count": 24
        }
      ]
    },
    {
      "cell_type": "code",
      "metadata": {
        "colab": {
          "base_uri": "https://localhost:8080/"
        },
        "id": "3kLXGZuCvKkc",
        "outputId": "5541a7c0-6d0e-419d-da8a-a9ab171fc378"
      },
      "source": [
        "import datetime\n",
        "\n",
        "birth = int(input(\"Enter year: \"))\n",
        "current_time = datetime.datetime.now()\n",
        "age = current_time.year - birth\n",
        "age"
      ],
      "execution_count": null,
      "outputs": [
        {
          "name": "stdout",
          "output_type": "stream",
          "text": [
            "Enter year: 1998\n"
          ]
        },
        {
          "output_type": "execute_result",
          "data": {
            "text/plain": [
              "23"
            ]
          },
          "metadata": {},
          "execution_count": 3
        }
      ]
    },
    {
      "cell_type": "code",
      "metadata": {
        "colab": {
          "base_uri": "https://localhost:8080/"
        },
        "id": "usLPY82xvgz7",
        "outputId": "34b68477-8100-4b1b-9990-76be073314fb"
      },
      "source": [
        "def factorial(n):\n",
        "    if n == 1:\n",
        "        return n\n",
        "    elif n>1:\n",
        "        return n*factorial(n-1)\n",
        "factorial(3)"
      ],
      "execution_count": null,
      "outputs": [
        {
          "output_type": "execute_result",
          "data": {
            "text/plain": [
              "6"
            ]
          },
          "metadata": {},
          "execution_count": 4
        }
      ]
    },
    {
      "cell_type": "code",
      "metadata": {
        "colab": {
          "base_uri": "https://localhost:8080/"
        },
        "id": "cvoQ8W4bwJAN",
        "outputId": "f06edae6-e40e-4dd6-e7cd-0e8b3d1e7ac7"
      },
      "source": [
        "def perfect(n):\n",
        "    sums = 0\n",
        "\n",
        "    for i in range(1,n):\n",
        "        if (n%i==0):  \n",
        "            sums = sums+i  \n",
        "    \n",
        "    if(sums==n):\n",
        "        print(\"The entered number is a perfect number\")  \n",
        "    else:  \n",
        "        print(\"The entered number is not a perfect number\")\n",
        "perfect(28)\n"
      ],
      "execution_count": null,
      "outputs": [
        {
          "output_type": "stream",
          "name": "stdout",
          "text": [
            "The entered number is a perfect number\n"
          ]
        }
      ]
    },
    {
      "cell_type": "code",
      "metadata": {
        "id": "EWFmPYX0wL5G",
        "colab": {
          "base_uri": "https://localhost:8080/"
        },
        "outputId": "c8578dac-6056-4933-b02c-be70f080969b"
      },
      "source": [
        "def pascal(n):\n",
        "  trow = [1]\n",
        "  y = [0]\n",
        "  for x in range(max(n,0)):\n",
        "     print(trow)\n",
        "     trow=[l+r for l,r in zip(trow+y, y+trow)]\n",
        "\n",
        "\n",
        "pascal(15)  "
      ],
      "execution_count": null,
      "outputs": [
        {
          "output_type": "stream",
          "name": "stdout",
          "text": [
            "[1]\n",
            "[1, 1]\n",
            "[1, 2, 1]\n",
            "[1, 3, 3, 1]\n",
            "[1, 4, 6, 4, 1]\n",
            "[1, 5, 10, 10, 5, 1]\n",
            "[1, 6, 15, 20, 15, 6, 1]\n",
            "[1, 7, 21, 35, 35, 21, 7, 1]\n",
            "[1, 8, 28, 56, 70, 56, 28, 8, 1]\n",
            "[1, 9, 36, 84, 126, 126, 84, 36, 9, 1]\n",
            "[1, 10, 45, 120, 210, 252, 210, 120, 45, 10, 1]\n",
            "[1, 11, 55, 165, 330, 462, 462, 330, 165, 55, 11, 1]\n",
            "[1, 12, 66, 220, 495, 792, 924, 792, 495, 220, 66, 12, 1]\n",
            "[1, 13, 78, 286, 715, 1287, 1716, 1716, 1287, 715, 286, 78, 13, 1]\n",
            "[1, 14, 91, 364, 1001, 2002, 3003, 3432, 3003, 2002, 1001, 364, 91, 14, 1]\n"
          ]
        }
      ]
    }
  ]
}